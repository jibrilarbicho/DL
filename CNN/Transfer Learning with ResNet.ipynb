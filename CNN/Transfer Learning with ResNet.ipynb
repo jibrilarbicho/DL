{
 "cells": [
  {
   "cell_type": "code",
   "execution_count": 1,
   "metadata": {},
   "outputs": [
    {
     "name": "stderr",
     "output_type": "stream",
     "text": [
      "/tmp/ipykernel_14129/615205814.py:10: DeprecationWarning: `set_matplotlib_formats` is deprecated since IPython 7.23, directly use `matplotlib_inline.backend_inline.set_matplotlib_formats()`\n",
      "  display.set_matplotlib_formats(\"svg\")\n"
     ]
    }
   ],
   "source": [
    "import numpy as np\n",
    "import torch\n",
    "import torch.nn as nn\n",
    "import torch.nn.functional as F\n",
    "import torchvision\n",
    "import torchvision.transforms as T\n",
    "from torch.utils.data import DataLoader,Subset\n",
    "import matplotlib.pyplot as plt\n",
    "from IPython import display\n",
    "display.set_matplotlib_formats(\"svg\")"
   ]
  },
  {
   "cell_type": "code",
   "execution_count": 2,
   "metadata": {},
   "outputs": [],
   "source": [
    "device=torch.device('cuda:0' if torch.cuda.is_available() else 'cpu')\n"
   ]
  },
  {
   "cell_type": "code",
   "execution_count": null,
   "metadata": {},
   "outputs": [],
   "source": [
    "transform = T.Compose([\n",
    "    T.ToTensor(),  # normalizes to range [0,1]\n",
    "    T.Normalize(mean=[0.485, 0.456, 0.406], std=[0.229, 0.224, 0.225])\n",
    "])\n",
    "\n",
    "# Import the data and simultaneously apply the transform\n",
    "trainset = torchvision.datasets.STL10(\n",
    "    root='./data', download=True, split='train', transform=transform\n",
    ")\n",
    "\n",
    "testset = torchvision.datasets.STL10(\n",
    "    root='./data', download=True, split='test', transform=transform\n",
    ")\n",
    "\n",
    "# Transform the datasets into dataloaders\n",
    "batchsize = 32\n",
    "train_loader = DataLoader(trainset, batch_size=batchsize, shuffle=True, drop_last=True)\n",
    "test_loader = DataLoader(testset, batch_size=256)"
   ]
  },
  {
   "cell_type": "code",
   "execution_count": null,
   "metadata": {},
   "outputs": [],
   "source": [
    "X,y=next(iter(train_loader))"
   ]
  },
  {
   "cell_type": "code",
   "execution_count": null,
   "metadata": {},
   "outputs": [],
   "source": [
    "fig,axs=plt.subplots(4,4,figsize=(10,10))\n",
    "for i, ax in enumerate(axs.flatten()):\n",
    "    # Extract the image (need to transpose it back to 32x32x3)\n",
    "    pic = X.data[i].numpy().transpose((1, 2, 0))\n",
    "    \n",
    "    # Undo normalization\n",
    "    pic = pic - np.min(pic)  \n",
    "    pic = pic / np.max(pic)\n",
    "    \n",
    "    # Extract the label\n",
    "    label = trainset.classes[y[i]]\n",
    "    \n",
    "    # Show the image\n",
    "    ax.imshow(pic)\n",
    "    \n",
    "    # Add the label as text on the image\n",
    "    ax.text(0, 0, label, ha='left', va='top', fontweight='bold', color='k', backgroundcolor='y')\n",
    "    \n",
    "    # Turn off axis\n",
    "    ax.axis('off')\n",
    "\n",
    "# Adjust the layout to prevent overlap\n",
    "plt.tight_layout()\n",
    "\n",
    "# Display the figure\n",
    "plt.show()\n",
    "\n"
   ]
  },
  {
   "cell_type": "code",
   "execution_count": null,
   "metadata": {},
   "outputs": [],
   "source": [
    "resnet=torchvision.models.resnet18(pretrained=True)"
   ]
  },
  {
   "cell_type": "code",
   "execution_count": null,
   "metadata": {},
   "outputs": [],
   "source": [
    "for p in resnet.paramateres():\n",
    "  p.requires_grad=False"
   ]
  },
  {
   "cell_type": "code",
   "execution_count": null,
   "metadata": {},
   "outputs": [],
   "source": [
    "resnet.fc=nn.Linear(512,10)"
   ]
  },
  {
   "cell_type": "code",
   "execution_count": null,
   "metadata": {},
   "outputs": [],
   "source": [
    "resnet.to(device)"
   ]
  },
  {
   "cell_type": "code",
   "execution_count": null,
   "metadata": {},
   "outputs": [],
   "source": [
    "lossfun=nn.CrossEntropyLoss()\n",
    "optimizer=torch.optim.SGD(resnet.parameters(),lr=0.001,momentum=.9)"
   ]
  },
  {
   "cell_type": "code",
   "execution_count": null,
   "metadata": {},
   "outputs": [],
   "source": [
    "numepochs=10\n",
    "trainLoss=torch.zeros(numepochs)\n",
    "testLoss=torch.zeros(numepochs)\n",
    "testAcc=torch.zeros(numepochs)\n",
    "trainAcc=torch.zeros(numepochs)\n",
    "for epochi in range(numepochs):\n",
    "  resnet.train()\n",
    "  batchLoss=[]\n",
    "  batchAcc=[]\n",
    "  for X ,y in train_loader:\n",
    "    X=X.to(device)\n",
    "    y=y.to(device)\n",
    "    yHat=resnet(X)\n",
    "    loss=lossfun(yHat,y)\n",
    "    optimizer.zero_grad()\n",
    "    loss.backward()\n",
    "    optimizer.step()\n",
    "    batchLoss.append(loss.item())\n",
    "    batchAcc.append(torch.mean((torch.argmax(yHat,axis=1) == y).float()).item())\n",
    "  trainLoss[epochi] = np.mean(batchLoss)\n",
    "  trainAcc[epochi] =100*np.mean(batchAcc)\n",
    "  resnet.eval()\n",
    "  batchAcc=[]\n",
    "  batchLoss=[]\n",
    "  for X,y in test_loader:\n",
    "    X=X.to(device)\n",
    "    y=y.to(device)\n",
    "    with torch.no_grad():\n",
    "      yHat= resnet(X)\n",
    "      loss=lossfun(yHat,y)\n",
    "    batchLoss.append(loss.item())\n",
    "    batchAcc.append(torch.mean((torch.argmax(yHat,axis=1) == y).float()).item())\n",
    "  testLoss[epochi] = np.mean(batchLoss)\n",
    "  testAcc[epochi] =100*np.mean(batchAcc)\n",
    "  print(f'Finshed Epoch {epochi+1}/{numepochs}. Test Accuracy {testAcc[epochi]:.2f}%')\n",
    "\n",
    "\n",
    "\n"
   ]
  },
  {
   "cell_type": "code",
   "execution_count": null,
   "metadata": {},
   "outputs": [],
   "source": [
    "fig, ax = plt.subplots(1, 2, figsize=(16, 5))\n",
    "\n",
    "# Plotting Train and Test Loss\n",
    "ax[0].plot(trainLoss, 's-', label='Train')\n",
    "ax[0].plot(testLoss, 'o-', label='Test')\n",
    "ax[0].set_xlabel('Epochs')\n",
    "ax[0].set_ylabel('Loss (MSE)')\n",
    "ax[0].set_title('Model loss')\n",
    "ax[0].legend()\n",
    "\n",
    "# Plotting Train and Test Accuracy\n",
    "ax[1].plot(trainAcc, 's-', label='Train')\n",
    "ax[1].plot(testAcc, 'o-', label='Test')\n",
    "ax[1].set_xlabel('Epochs')\n",
    "ax[1].set_ylabel('Accuracy (%)')\n",
    "ax[1].set_title(f'Final model train/test accuracy: {trainAcc[-1]:.2f}/{testAcc[-1]:.2f}%')\n",
    "ax[1].legend()\n",
    "\n",
    "# Add a main title for the whole figure\n",
    "plt.suptitle('Pretrained ResNet-18 on STL10 data', fontweight='bold', fontsize=14)\n",
    "\n",
    "# Show the plots\n",
    "plt.show()\n"
   ]
  }
 ],
 "metadata": {
  "kernelspec": {
   "display_name": "myenv",
   "language": "python",
   "name": "python3"
  },
  "language_info": {
   "codemirror_mode": {
    "name": "ipython",
    "version": 3
   },
   "file_extension": ".py",
   "mimetype": "text/x-python",
   "name": "python",
   "nbconvert_exporter": "python",
   "pygments_lexer": "ipython3",
   "version": "3.11.10"
  }
 },
 "nbformat": 4,
 "nbformat_minor": 2
}
